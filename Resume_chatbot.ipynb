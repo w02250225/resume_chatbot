{
  "cells": [
    {
      "cell_type": "code",
      "execution_count": null,
      "metadata": {
        "id": "NJemcd1w-025"
      },
      "outputs": [],
      "source": [
        "#pip install langchain langchain-community langchain-openai geopandas sqlalchemy geoalchemy2 pymssql PyPDF2 tiktoken==0.5.2 mlflow==2.9.0 chromadb"
      ]
    },
    {
      "cell_type": "code",
      "execution_count": null,
      "metadata": {
        "id": "QzDIxEcC-028"
      },
      "outputs": [],
      "source": [
        "# install packages\n",
        "!pip install langchain\n",
        "!pip install langchain_openai\n",
        "!pip install openai\n",
        "#!pip install unstructured\n",
        "!pip install chromadb\n",
        "!pip install pypdf\n",
        "#!pip install \"unstructured[pdf]\""
      ]
    },
    {
      "cell_type": "code",
      "execution_count": null,
      "metadata": {
        "id": "1nP77xFX-028"
      },
      "outputs": [],
      "source": [
        "#pip freeze"
      ]
    },
    {
      "cell_type": "code",
      "execution_count": null,
      "metadata": {
        "id": "6T3hPkGT-029"
      },
      "outputs": [],
      "source": [
        "# setup env\n",
        "import os\n",
        "os.environ[\"AZURE_OPENAI_ENDPOINT\"] = 'https://andy-oa.openai.azure.com/'\n",
        "os.environ[\"AZURE_OPENAI_API_KEY\"] = '6de7de32e13542e8ac28d05c3f7b51e9'"
      ]
    },
    {
      "cell_type": "code",
      "execution_count": null,
      "metadata": {
        "id": "p0MP9pdw-029"
      },
      "outputs": [],
      "source": [
        "# import required packages\n",
        "from langchain.embeddings.openai import OpenAIEmbeddings\n",
        "from langchain.vectorstores import Chroma\n",
        "from langchain.text_splitter import CharacterTextSplitter\n",
        "from langchain import OpenAI,VectorDBQA\n",
        "from langchain.document_loaders import DirectoryLoader\n",
        "from langchain.chains import RetrievalQA, RetrievalQAWithSourcesChain\n",
        "from langchain.document_loaders import UnstructuredFileLoader\n",
        "from langchain_community.document_loaders import PyPDFLoader"
      ]
    },
    {
      "cell_type": "code",
      "execution_count": null,
      "metadata": {
        "id": "zCa35Zhu-02-"
      },
      "outputs": [],
      "source": [
        "# loading text documents\n",
        "loader = PyPDFLoader(r\"C:\\Users\\WilsonHung\\Desktop\\11880-retail-important-information-guide.pdf\")\n",
        "\n",
        "#loader = DirectoryLoader('C:\\Users\\WilsonHung\\Desktop', glob='**\\*.pdf')\n",
        "documents = loader.load()\n",
        "\n",
        "# initialise text splitter\n",
        "text_splitter = CharacterTextSplitter(chunk_size=100, chunk_overlap=0)\n",
        "# split document\n",
        "split_docs = text_splitter.split_documents(documents)\n",
        "# initialise openai embeddings model\n",
        "from langchain_openai import AzureOpenAIEmbeddings\n",
        "embeddings = AzureOpenAIEmbeddings(\n",
        "    azure_deployment=\"AndyEmbeddingModel\",\n",
        "    openai_api_version=\"2023-05-15\"\n",
        ")\n",
        "\n",
        "# store the vectors calculated from the docs into Chroma DB\n",
        "docsearch = Chroma.from_documents(split_docs, embeddings)"
      ]
    },
    {
      "cell_type": "code",
      "execution_count": null,
      "metadata": {
        "id": "qcM5auc4-02_"
      },
      "outputs": [],
      "source": [
        "# Initialise azure openai chatmodel\n",
        "from langchain_openai import AzureOpenAIEmbeddings, AzureChatOpenAI\n",
        "azureopenai_llm = AzureChatOpenAI(deployment_name=\"AndyChat\",\n",
        "                       max_tokens=1024,\n",
        "                       openai_api_version=\"2023-05-15\")"
      ]
    },
    {
      "cell_type": "code",
      "execution_count": null,
      "metadata": {
        "id": "94FAK2C3-02_"
      },
      "outputs": [],
      "source": [
        "# create the retriever\n",
        "qa = RetrievalQAWithSourcesChain.from_chain_type(llm = azureopenai_llm,\n",
        "                                 chain_type=\"stuff\",\n",
        "                                 retriever=docsearch.as_retriever())\n",
        "                                 #return_source_documents=True)\n",
        "# Ask a question\n",
        "result = qa.invoke(\"Who is Wilson and what does he specialises?\")"
      ]
    },
    {
      "cell_type": "code",
      "execution_count": null,
      "metadata": {
        "id": "yihvdVKd-02_"
      },
      "outputs": [],
      "source": [
        "print(result)"
      ]
    },
    {
      "cell_type": "code",
      "execution_count": null,
      "metadata": {
        "id": "EBMRfFB1-03A"
      },
      "outputs": [],
      "source": []
    }
  ],
  "metadata": {
    "kernelspec": {
      "display_name": "Python 3",
      "language": "python",
      "name": "python3"
    },
    "language_info": {
      "codemirror_mode": {
        "name": "ipython",
        "version": 3
      },
      "file_extension": ".py",
      "mimetype": "text/x-python",
      "name": "python",
      "nbconvert_exporter": "python",
      "pygments_lexer": "ipython3",
      "version": "3.11.4"
    },
    "colab": {
      "provenance": []
    }
  },
  "nbformat": 4,
  "nbformat_minor": 0
}